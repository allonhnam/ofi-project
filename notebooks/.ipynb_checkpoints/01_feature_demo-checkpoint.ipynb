{
 "cells": [
  {
   "cell_type": "code",
   "execution_count": null,
   "metadata": {},
   "outputs": [],
   "source": [
    "# Cell 1  – imports & data ----------------------------------------------------\n",
    "import pandas as pd\n",
    "import matplotlib.pyplot as plt\n",
    "from pathlib import Path\n",
    "\n",
    "from ofi import (\n",
    "    Loader,\n",
    "    compute_increments,\n",
    "    best_level_ofi,\n",
    "    multi_level_vector,\n",
    "    integrated_ofi,\n",
    ")\n",
    "\n",
    "DATA = Path(\"..\") / \"data\" / \"first_25000_rows.csv\"\n",
    "ld = Loader(DATA)\n",
    "snapshots = ld.load_raw()\n",
    "snapshots.head()"
   ]
  },
  {
   "cell_type": "code",
   "execution_count": null,
   "metadata": {},
   "outputs": [],
   "source": [
    "# Cell 2  – compute increments ------------------------------------------------\n",
    "incr = compute_increments(snapshots)\n",
    "incr.head()"
   ]
  },
  {
   "cell_type": "code",
   "execution_count": null,
   "metadata": {},
   "outputs": [],
   "source": [
    "# Cell 3  – single-stock OFI features ----------------------------------------\n",
    "ofi_best = best_level_ofi(incr, freq=\"1s\")\n",
    "ofi_vec  = multi_level_vector(incr, depth=10, freq=\"1s\")\n",
    "\n",
    "# integrate via PCA first component\n",
    "from ofi.utils import rolling_pca\n",
    "pca = rolling_pca(ofi_vec, window=3000)\n",
    "ofi_int = integrated_ofi(ofi_vec, pca=pca)\n",
    "\n",
    "display(ofi_best.to_frame().join(ofi_int).head())\n"
   ]
  },
  {
   "cell_type": "code",
   "execution_count": null,
   "metadata": {},
   "outputs": [],
   "source": [
    "# Cell 4  – quick sanity plots ------------------------------------------------\n",
    "fig, ax = plt.subplots(3, 1, figsize=(12, 8), sharex=True)\n",
    "ofi_best.plot(ax=ax[0], title=\"Best-level OFI\")\n",
    "ofi_vec.plot(ax=ax[1], title=\"Multi-level OFI (levels 1-10)\")\n",
    "ofi_int.plot(ax=ax[2], title=\"Integrated OFI (1st PC)\")\n",
    "fig.tight_layout()\n"
   ]
  }
 ],
 "metadata": {
  "kernelspec": {
   "display_name": "Python 3 (ipykernel)",
   "language": "python",
   "name": "python3"
  },
  "language_info": {
   "codemirror_mode": {
    "name": "ipython",
    "version": 3
   },
   "file_extension": ".py",
   "mimetype": "text/x-python",
   "name": "python",
   "nbconvert_exporter": "python",
   "pygments_lexer": "ipython3",
   "version": "3.11.7"
  }
 },
 "nbformat": 4,
 "nbformat_minor": 4
}
