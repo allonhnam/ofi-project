{
 "cells": [
  {
   "cell_type": "code",
   "execution_count": null,
   "metadata": {},
   "outputs": [],
   "source": [
    "# Cell 1  – build a toy multi-asset panel ------------------------------------\n",
    "import numpy as np\n",
    "import pandas as pd\n",
    "from pathlib import Path\n",
    "from ofi import Loader, compute_increments, best_level_ofi, cross_asset_panel\n",
    "\n",
    "FILES = {\n",
    "    \"AAPL\": Path(\"..\") / \"data\" / \"first_25000_rows.csv\",\n",
    "    \"MSFT\": Path(\"..\") / \"data\" / \"first_25000_rows.csv\",\n",
    "    \"AMZN\": Path(\"..\") / \"data\" / \"first_25000_rows.csv\",\n",
    "}\n",
    "\n",
    "ofi_series = {}\n",
    "for ticker, path in FILES.items():\n",
    "    snap = Loader(path).load_raw()\n",
    "    incr = compute_increments(snap)\n",
    "    ofi_series[ticker] = best_level_ofi(incr, freq=\"10s\")\n",
    "\n",
    "panel = cross_asset_panel(ofi_series)\n",
    "panel\n"
   ]
  },
  {
   "cell_type": "code",
   "execution_count": null,
   "metadata": {},
   "outputs": [],
   "source": [
    "# Cell 2  – run cross-sectional Lasso ----------------------------------------\n",
    "import xarray as xr\n",
    "from sklearn.linear_model import LassoCV\n",
    "from sklearn.preprocessing import StandardScaler\n",
    "\n",
    "y = panel.sel(stock=\"AAPL\").to_pandas()\n",
    "X = panel.drop_sel(stock=\"AAPL\").to_pandas().T  # other stocks\n",
    "\n",
    "# align clocks\n",
    "data = pd.concat({\"y\": y, **{c: X[c] for c in X.columns}}, axis=1).dropna()\n",
    "y_vec = data.pop(\"y\").values\n",
    "X_mat = StandardScaler().fit_transform(data)\n",
    "\n",
    "lasso = LassoCV(cv=5, fit_intercept=True, n_jobs=-1).fit(X_mat, y_vec)\n",
    "coef = pd.Series(lasso.coef_, index=data.columns, name=\"AAPL_LassoCoef\")\n",
    "coef\n"
   ]
  },
  {
   "cell_type": "code",
   "execution_count": null,
   "metadata": {},
   "outputs": [],
   "source": [
    "# Cell 3  – visualise coefficients -------------------------------------------\n",
    "coef.sort_values().plot.barh(figsize=(6, 3), title=\"AAPL cross-impact loadings\")"
   ]
  },
  {
   "cell_type": "markdown",
   "metadata": {},
   "source": []
  }
 ],
 "metadata": {
  "kernelspec": {
   "display_name": "Python 3 (ipykernel)",
   "language": "python",
   "name": "python3"
  },
  "language_info": {
   "codemirror_mode": {
    "name": "ipython",
    "version": 3
   },
   "file_extension": ".py",
   "mimetype": "text/x-python",
   "name": "python",
   "nbconvert_exporter": "python",
   "pygments_lexer": "ipython3",
   "version": "3.11.7"
  }
 },
 "nbformat": 4,
 "nbformat_minor": 4
}
