{
 "cells": [
  {
   "cell_type": "code",
   "execution_count": 1,
   "metadata": {},
   "outputs": [
    {
     "ename": "ModuleNotFoundError",
     "evalue": "No module named 'pandas'",
     "output_type": "error",
     "traceback": [
      "\u001b[0;31m---------------------------------------------------------------------------\u001b[0m",
      "\u001b[0;31mModuleNotFoundError\u001b[0m                       Traceback (most recent call last)",
      "Cell \u001b[0;32mIn[1], line 2\u001b[0m\n\u001b[1;32m      1\u001b[0m \u001b[39m# Cell 1  – imports & data ----------------------------------------------------\u001b[39;00m\n\u001b[0;32m----> 2\u001b[0m \u001b[39mimport\u001b[39;00m\u001b[39m \u001b[39m\u001b[39mpandas\u001b[39;00m\u001b[39m \u001b[39m\u001b[39mas\u001b[39;00m\u001b[39m \u001b[39m\u001b[39mpd\u001b[39;00m\n\u001b[1;32m      3\u001b[0m \u001b[39mimport\u001b[39;00m\u001b[39m \u001b[39m\u001b[39mmatplotlib\u001b[39;00m\u001b[39m.\u001b[39;00m\u001b[39mpyplot\u001b[39;00m\u001b[39m \u001b[39m\u001b[39mas\u001b[39;00m\u001b[39m \u001b[39m\u001b[39mplt\u001b[39;00m\n\u001b[1;32m      4\u001b[0m \u001b[39mfrom\u001b[39;00m\u001b[39m \u001b[39m\u001b[39mpathlib\u001b[39;00m\u001b[39m \u001b[39m\u001b[39mimport\u001b[39;00m Path\n",
      "\u001b[0;31mModuleNotFoundError\u001b[0m: No module named 'pandas'"
     ]
    }
   ],
   "source": [
    "# Cell 1  – imports & data ----------------------------------------------------\n",
    "import pandas as pd\n",
    "import matplotlib.pyplot as plt\n",
    "from pathlib import Path\n",
    "\n",
    "from ofi import (\n",
    "    Loader,\n",
    "    compute_increments,\n",
    "    best_level_ofi,\n",
    "    multi_level_vector,\n",
    "    integrated_ofi,\n",
    ")\n",
    "\n",
    "DATA = Path(\"..\") / \"data\" / \"first_25000_rows.csv\"\n",
    "ld = Loader(DATA)\n",
    "snapshots = ld.load_raw()\n",
    "snapshots.head()"
   ]
  },
  {
   "cell_type": "code",
   "execution_count": null,
   "metadata": {},
   "outputs": [],
   "source": [
    "# Cell 2  – compute increments ------------------------------------------------\n",
    "incr = compute_increments(snapshots)\n",
    "incr.head()"
   ]
  },
  {
   "cell_type": "code",
   "execution_count": null,
   "metadata": {},
   "outputs": [],
   "source": [
    "# Cell 3  – single-stock OFI features ----------------------------------------\n",
    "ofi_best = best_level_ofi(incr, freq=\"1s\")\n",
    "ofi_vec  = multi_level_vector(incr, depth=10, freq=\"1s\")\n",
    "\n",
    "# integrate via PCA first component\n",
    "from ofi.utils import rolling_pca\n",
    "pca = rolling_pca(ofi_vec, window=3000)\n",
    "ofi_int = integrated_ofi(ofi_vec, pca=pca)\n",
    "\n",
    "display(ofi_best.to_frame().join(ofi_int).head())\n"
   ]
  },
  {
   "cell_type": "code",
   "execution_count": null,
   "metadata": {},
   "outputs": [],
   "source": [
    "# Cell 4  – quick sanity plots ------------------------------------------------\n",
    "fig, ax = plt.subplots(3, 1, figsize=(12, 8), sharex=True)\n",
    "ofi_best.plot(ax=ax[0], title=\"Best-level OFI\")\n",
    "ofi_vec.plot(ax=ax[1], title=\"Multi-level OFI (levels 1-10)\")\n",
    "ofi_int.plot(ax=ax[2], title=\"Integrated OFI (1st PC)\")\n",
    "fig.tight_layout()\n"
   ]
  }
 ],
 "metadata": {
  "kernelspec": {
   "display_name": "Python 3",
   "language": "python",
   "name": "python3"
  },
  "language_info": {
   "codemirror_mode": {
    "name": "ipython",
    "version": 3
   },
   "file_extension": ".py",
   "mimetype": "text/x-python",
   "name": "python",
   "nbconvert_exporter": "python",
   "pygments_lexer": "ipython3",
   "version": "3.9.6"
  },
  "orig_nbformat": 4
 },
 "nbformat": 4,
 "nbformat_minor": 2
}
